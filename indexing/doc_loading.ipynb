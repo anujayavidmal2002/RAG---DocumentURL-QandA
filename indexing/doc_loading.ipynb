{
 "cells": [
  {
   "cell_type": "markdown",
   "id": "72d7035f519e7498",
   "metadata": {},
   "source": [
    "# Data Loading\n",
    "Data Loading in langchain is the process of loading data from various sources like files, databases, web pages, etc. The data is loaded into a Document object which is a part of the langchain library. The Document object contains the text content of the data and metadata like the source URL, title, etc. The Document object is then used for further processing like text analysis, summarization, etc.\n",
    "\n",
    "Source: https://python.langchain.com/docs/integrations/document_loaders"
   ]
  },
  {
   "cell_type": "code",
   "execution_count": 3,
   "id": "be594d2f",
   "metadata": {},
   "outputs": [
    {
     "name": "stdout",
     "output_type": "stream",
     "text": [
      "[Document(metadata={'source': 'test.txt'}, page_content='Lorem ipsum dolor sit amet, consectetur adipiscing elit. Fusce augue ex, vulputate ac nibh in, venenatis imperdiet ante. Nulla ut accumsan nibh. Sed enim mi, eleifend sit amet tellus et, tempor congue risus. In consequat, purus congue mollis posuere, urna ex scelerisque lorem, sit amet commodo purus arcu ut lacus. Nullam sed porttitor velit, sit amet placerat mauris. Sed et convallis dui, nec ornare ante. Vestibulum dolor justo, commodo vel sapien ut, ultricies tristique magna. Pellentesque tortor sem, commodo nec finibus at, tincidunt a ipsum. Praesent turpis sem, tempor ut ex non, gravida commodo nunc. Duis leo orci, laoreet eu ultrices nec, auctor at magna.\\n\\nInterdum et malesuada fames ac ante ipsum primis in faucibus. Nam ultrices sed mi ut maximus. Praesent tincidunt semper mauris. Aenean varius neque nulla. Orci varius natoque penatibus et magnis dis parturient montes, nascetur ridiculus mus. Sed ac bibendum odio. Cras ipsum velit, aliquet vel elit at, placerat euismod diam. Quisque tempor finibus eros, vel viverra mi venenatis vitae.\\n\\nMauris turpis velit, fringilla at neque in, aliquet dapibus est. Nam luctus eget massa eu venenatis. Morbi pellentesque magna sed sodales varius. Nulla facilisi. Proin porttitor sed felis ac molestie. Sed lectus orci, dapibus vitae neque ut, euismod ornare urna. Duis non sagittis justo, vel commodo nibh. Proin ac elementum lorem, et finibus turpis.\\n\\nDonec et ipsum imperdiet, sollicitudin arcu consectetur, hendrerit risus. Nunc vitae ligula vitae nibh malesuada malesuada. Curabitur a magna urna. Nullam consequat sagittis velit nec porta. Nulla eget arcu euismod ipsum faucibus convallis eget id est. Curabitur et leo in nisi blandit pretium. Pellentesque ullamcorper finibus vehicula. Fusce ut nisi at odio laoreet egestas. Vivamus rhoncus egestas egestas. Etiam cursus urna sit amet justo efficitur lobortis. Cras elementum convallis arcu eget ultrices. Integer at consectetur ligula. Vestibulum suscipit bibendum enim quis tincidunt. Curabitur aliquet arcu vel aliquet fermentum.\\n\\nFusce interdum sem non augue condimentum, nec posuere lorem euismod. Nam massa leo, gravida eget nisi sed, sollicitudin rutrum elit. Duis massa enim, ullamcorper nec fermentum at, mattis in ligula. Vestibulum ut dolor eu magna varius luctus. Maecenas quis risus in ipsum finibus placerat. Nulla tincidunt ligula vel ultricies tempus. Nunc eleifend porttitor maximus. Maecenas quis tellus sit amet dolor pulvinar pellentesque. Aenean consequat risus ut venenatis rhoncus. Morbi quis ipsum hendrerit, vehicula massa in, finibus quam.')]\n",
      "page_content='Lorem ipsum dolor sit amet, consectetur adipiscing elit. Fusce augue ex, vulputate ac nibh in, venenatis imperdiet ante. Nulla ut accumsan nibh. Sed enim mi, eleifend sit amet tellus et, tempor congue risus. In consequat, purus congue mollis posuere, urna ex scelerisque lorem, sit amet commodo purus arcu ut lacus. Nullam sed porttitor velit, sit amet placerat mauris. Sed et convallis dui, nec ornare ante. Vestibulum dolor justo, commodo vel sapien ut, ultricies tristique magna. Pellentesque tortor sem, commodo nec finibus at, tincidunt a ipsum. Praesent turpis sem, tempor ut ex non, gravida commodo nunc. Duis leo orci, laoreet eu ultrices nec, auctor at magna.\n",
      "\n",
      "Interdum et malesuada fames ac ante ipsum primis in faucibus. Nam ultrices sed mi ut maximus. Praesent tincidunt semper mauris. Aenean varius neque nulla. Orci varius natoque penatibus et magnis dis parturient montes, nascetur ridiculus mus. Sed ac bibendum odio. Cras ipsum velit, aliquet vel elit at, placerat euismod diam. Quisque tempor finibus eros, vel viverra mi venenatis vitae.\n",
      "\n",
      "Mauris turpis velit, fringilla at neque in, aliquet dapibus est. Nam luctus eget massa eu venenatis. Morbi pellentesque magna sed sodales varius. Nulla facilisi. Proin porttitor sed felis ac molestie. Sed lectus orci, dapibus vitae neque ut, euismod ornare urna. Duis non sagittis justo, vel commodo nibh. Proin ac elementum lorem, et finibus turpis.\n",
      "\n",
      "Donec et ipsum imperdiet, sollicitudin arcu consectetur, hendrerit risus. Nunc vitae ligula vitae nibh malesuada malesuada. Curabitur a magna urna. Nullam consequat sagittis velit nec porta. Nulla eget arcu euismod ipsum faucibus convallis eget id est. Curabitur et leo in nisi blandit pretium. Pellentesque ullamcorper finibus vehicula. Fusce ut nisi at odio laoreet egestas. Vivamus rhoncus egestas egestas. Etiam cursus urna sit amet justo efficitur lobortis. Cras elementum convallis arcu eget ultrices. Integer at consectetur ligula. Vestibulum suscipit bibendum enim quis tincidunt. Curabitur aliquet arcu vel aliquet fermentum.\n",
      "\n",
      "Fusce interdum sem non augue condimentum, nec posuere lorem euismod. Nam massa leo, gravida eget nisi sed, sollicitudin rutrum elit. Duis massa enim, ullamcorper nec fermentum at, mattis in ligula. Vestibulum ut dolor eu magna varius luctus. Maecenas quis risus in ipsum finibus placerat. Nulla tincidunt ligula vel ultricies tempus. Nunc eleifend porttitor maximus. Maecenas quis tellus sit amet dolor pulvinar pellentesque. Aenean consequat risus ut venenatis rhoncus. Morbi quis ipsum hendrerit, vehicula massa in, finibus quam.' metadata={'source': 'test.txt'}\n"
     ]
    }
   ],
   "source": [
    "from langchain.document_loaders import TextLoader\n",
    "\n",
    "loader = TextLoader(\"test.txt\")\n",
    "document = loader.load()\n",
    "print(document)\n",
    "print(document[0])\n"
   ]
  },
  {
   "cell_type": "code",
   "execution_count": 2,
   "id": "661fe9af",
   "metadata": {},
   "outputs": [
    {
     "name": "stdout",
     "output_type": "stream",
     "text": [
      "Note: you may need to restart the kernel to use updated packages.\n"
     ]
    }
   ],
   "source": [
    "%pip install -qU langchain_community beautifulsoup4"
   ]
  },
  {
   "cell_type": "code",
   "execution_count": 4,
   "id": "40ca4d7d5ffe3b27",
   "metadata": {
    "ExecuteTime": {
     "end_time": "2024-10-25T05:03:07.980289Z",
     "start_time": "2024-10-25T05:03:06.556592Z"
    }
   },
   "outputs": [
    {
     "name": "stderr",
     "output_type": "stream",
     "text": [
      "USER_AGENT environment variable not set, consider setting it to identify your requests.\n"
     ]
    },
    {
     "data": {
      "text/plain": [
       "Document(metadata={'source': 'https://www.espn.com/', 'title': 'ESPN - Serving Sports Fans. Anytime. Anywhere.', 'description': 'Visit ESPN for live scores, highlights and sports news. Stream exclusive games on ESPN+ and play fantasy sports.', 'language': 'en'}, page_content=\"\\n\\n\\n\\n\\n\\n\\n\\n\\nESPN - Serving Sports Fans. Anytime. Anywhere.\\n\\n\\n\\n\\n\\n\\n\\n\\n\\n\\n\\n\\n\\n\\n\\n\\n\\n\\n\\n\\n\\n\\n\\n\\n\\n\\n\\n\\n\\n\\n\\n\\n\\n\\n\\n\\n\\n\\n\\n\\n\\n\\n\\n\\n\\n\\n\\n\\n\\n\\n\\n\\n\\n\\n\\n\\n\\n\\n\\n\\n\\n\\n\\n\\n\\n\\n\\n\\n\\n\\n\\n\\n\\n\\n\\n\\n\\n\\n\\n\\n\\n\\n\\n\\n\\n\\n\\n\\n\\n\\n\\n\\n\\n        Skip to main content\\n    \\n\\n        Skip to navigation\\n    \\n\\n\\n\\n\\n\\n\\n\\n\\n\\n\\n\\n\\n\\n\\n\\n\\n\\n\\n\\n\\n\\n\\n\\n\\n\\n\\n\\n\\n\\n\\n\\n\\n\\n<\\n\\n>\\n\\n\\n\\n\\n\\n\\n\\n\\n\\nMenuESPN\\n\\n\\n\\n\\n\\nscores\\n\\n\\n\\nNFLNBAMLBWNBASoccerGolfNHLMore SportsBoxingNCAACricketF1GamingHorseLLWSMMANASCARNLLNBA G LeagueNBA Summer LeagueNCAAFNCAAMNCAAWNWSLOlympicsPLLProfessional WrestlingRacingRN BBRN FBRugbySports BettingTennisTGLUFLX GamesEditionsFantasyWatchESPN BETESPN+\\n\\n\\n\\n\\n\\n\\n\\n\\n\\n\\n\\n\\n\\n\\n\\n  \\n\\nSubscribe Now\\n\\n\\n\\n\\n\\nUFC 318: Holloway vs. Poirier 3 (PPV)\\n\\n\\n\\n\\n\\n\\n\\nNFL FLAG\\n\\n\\n\\n\\n\\n\\n\\nNBA Summer League\\n\\n\\n\\n\\n\\n\\n\\nThe Ultimate Fighter\\n\\n\\n\\n\\n\\n\\n\\nLittle League Softball\\n\\n\\nQuick Links\\n\\n\\n\\n\\nNBA Free Agency\\n\\n\\n\\n\\n\\n\\n\\nNBA Summer League\\n\\n\\n\\n\\n\\n\\n\\nWNBA Season Schedule\\n\\n\\n\\n\\n\\n\\n\\nThe Open\\n\\n\\n\\n\\n\\n\\n\\nWhere To Watch\\n\\n\\n\\n\\n\\n\\n\\nToday's Top Odds\\n\\n\\n\\n\\n\\n\\n\\nESPN Radio: Listen Live\\n\\n\\n\\n\\n\\n\\nFavorites\\n\\n\\n\\n\\n\\n\\n      Manage Favorites\\n      \\n\\n\\n\\nCustomize ESPNCreate AccountLog InFantasy\\n\\n\\n\\n\\nFootball\\n\\n\\n\\n\\n\\n\\n\\nBaseball\\n\\n\\n\\n\\n\\n\\n\\nHockey\\n\\n\\n\\n\\n\\n\\n\\nMen's Basketball\\n\\n\\n\\n\\n\\n\\n\\nWomen's Basketball\\n\\n\\nESPN Sites\\n\\n\\n\\n\\nESPN Deportes\\n\\n\\n\\n\\n\\n\\n\\nAndscape\\n\\n\\n\\n\\n\\n\\n\\nespnW\\n\\n\\n\\n\\n\\n\\n\\nESPNFC\\n\\n\\n\\n\\n\\n\\n\\nX Games\\n\\n\\n\\n\\n\\n\\n\\nSEC Network\\n\\n\\nESPN Apps\\n\\n\\n\\n\\nESPN\\n\\n\\n\\n\\n\\n\\n\\nESPN Fantasy\\n\\n\\n\\n\\n\\n\\n\\nTournament Challenge\\n\\n\\nFollow ESPN\\n\\n\\n\\n\\nFacebook\\n\\n\\n\\n\\n\\n\\n\\nX/Twitter\\n\\n\\n\\n\\n\\n\\n\\nInstagram\\n\\n\\n\\n\\n\\n\\n\\nSnapchat\\n\\n\\n\\n\\n\\n\\n\\nTikTok\\n\\n\\n\\n\\n\\n\\n\\nYouTube\\n\\n\\nScottie Scheffler makes final putt to win the Open Championship11h1:14Scheffler's unique dominance over golf continues at Open ChampionshipScheffler's march on Royal Portrush was a masterclass and proof that his approach is unlike anyone else's.8hPaolo Uggetti⛳ Sights and sounds from final round of Open ChampionshipTOP HEADLINESNFLPA's Tretter to resign amid union overhaulTrump aims at stadium over Commanders' nameNo drama: Scheffler adds The Open, 3rd Slam legKnueppel-led Hornets win 1st summer league title'Progressing' Clark likely out for Fever TuesdayCowboys' Smith: Super Bowl still the expectationNo. 1 running back Cooper commits to LonghornsReports: MLB looking into Braves coach's actions💎 Eagles' Super Bowl ring has pop-out wingsNBA Summer League - FinalMLB SCOREBOARD📅 Complete scoreboard⬆⬇ StandingsInside Vikings' creative plan that saved J.J. McCarthy's lost rookie season20hKevin SeifertSUMMER LEAGUE SCOREBOARDHow to watch, schedule, rosters, newsAROUND THE WNBAWNBA All-Star grades: MVP Collier scores A+ in leading team to victoryNapheesa Collier, Sabrina Ionescu and Natasha Cloud scored high marks on All-Star weekend.1dKevin Pelton and Michael Voepel🏀 Takeaways: Team Collier wins, Skylar makes historyMLB TRADE DEADLINEJULY 31 AT 6 P.M. ETOur latest intel on trade deadline rumors, Tucker's free agency and moreWhich teams will go all-in at the deadline? Here's everything our MLB insiders heard in Atlanta.3dJorge Castillo, +4 MoreMORE REACTION FROM THE OPENScheffler: Winning The Open 'a very special feeling'1h1:29Who has won the Open Championship? All-time golf championsWhich players have won a golf career Grand Slam? Top HeadlinesNFLPA's Tretter to resign amid union overhaulTrump aims at stadium over Commanders' nameNo drama: Scheffler adds The Open, 3rd Slam legKnueppel-led Hornets win 1st summer league title'Progressing' Clark likely out for Fever TuesdayCowboys' Smith: Super Bowl still the expectationNo. 1 running back Cooper commits to LonghornsReports: MLB looking into Braves coach's actions💎 Eagles' Super Bowl ring has pop-out wingsFavorites FantasyManage FavoritesFantasy HomeCustomize ESPNCreate AccountLog InICYMIMax Holloway wins electrifying fight in Dustin Poirier's final boutMax Holloway wins by unanimous decision over Dustin Poirier in the final fight of Poirier's career. Trending NowAP Photo/Chris O'MearaJudging 2025 NFL offseason overreactions: Bucs, Browns, moreIs the Bucs QB destined for a massive new contract? Will the Commanders own the NFC East? We're judging offseason overreactions.University Images via Getty ImagesJuly update: 2025 top 10 prospect rankings for all 30 MLB teamsWho is rising and falling in every major league farm system after the MLB draft? Kiley McDaniel digs in.Brian Fluharty/Getty ImagesTracking Fever star Caitlin Clark's injuries and WNBA seasonThree separate injuries have sidelined the Indiana point guard and All-Star for 10 regular-season WNBA games.Mark J. Rebilas-Imagn ImagesHow Bradley Beal and the Phoenix Suns finalized their contentious divorceThroughout the February trade deadline to the draft to free agency, one element of the Suns' roster-building failure has loomed for the Suns: How to end their marriage to the three-time All-Star.Stuart Kerr/R&A/R&A via Getty ImagesBefore he was the best golfer of his generation, Rory McIlroy was an East Tennessee State commitFred Warren was one of the first college coaches to recruit heavily from Europe. And he nearly snagged a young McIlroy. Sign up to play the #1 Fantasy game!Create A LeagueJoin Public LeagueReactivate A LeagueMock Draft NowSign up for FREE!Create A LeagueJoin a Public LeagueReactivate a LeaguePractice with a Mock DraftSign up for FREE!Reactivate A LeagueCreate A LeagueJoin a Public LeaguePractice With a Mock DraftESPN+ on Disney+Mike Windle/Getty Images for ESPNHow to watch ESPN+ on Disney+: Frequently asked questionsESPN+ is available on Disney+. Check out how to watch NHL, MLB, Pat McAfee, 30 for 30s and other exciting events now. Get a custom ESPN experienceEnjoy the benefits of a personalized accountSelect your favorite leagues, teams and players and get the latest scores, news and updates that matter most to you. \\n\\nESPN+\\n\\n\\n\\n\\nUFC 318: Holloway vs. Poirier 3 (PPV)\\n\\n\\n\\n\\n\\n\\n\\nNFL FLAG\\n\\n\\n\\n\\n\\n\\n\\nThe Ultimate Fighter\\n\\n\\nQuick Links\\n\\n\\n\\n\\nNBA Free Agency\\n\\n\\n\\n\\n\\n\\n\\nNBA Summer League\\n\\n\\n\\n\\n\\n\\n\\nWNBA Season Schedule\\n\\n\\n\\n\\n\\n\\n\\nThe Open\\n\\n\\n\\n\\n\\n\\n\\nWhere To Watch\\n\\n\\n\\n\\n\\n\\n\\nToday's Top Odds\\n\\n\\n\\n\\n\\n\\n\\nESPN Radio: Listen Live\\n\\n\\nFantasy\\n\\n\\n\\n\\nFootball\\n\\n\\n\\n\\n\\n\\n\\nBaseball\\n\\n\\n\\n\\n\\n\\n\\nHockey\\n\\n\\n\\n\\n\\n\\n\\nMen's Basketball\\n\\n\\n\\n\\n\\n\\n\\nWomen's Basketball\\n\\n\\nESPN Sites\\n\\n\\n\\n\\nESPN Deportes\\n\\n\\n\\n\\n\\n\\n\\nAndscape\\n\\n\\n\\n\\n\\n\\n\\nespnW\\n\\n\\n\\n\\n\\n\\n\\nESPNFC\\n\\n\\n\\n\\n\\n\\n\\nX Games\\n\\n\\n\\n\\n\\n\\n\\nSEC Network\\n\\n\\nESPN Apps\\n\\n\\n\\n\\nESPN\\n\\n\\n\\n\\n\\n\\n\\nESPN Fantasy\\n\\n\\n\\n\\n\\n\\n\\nTournament Challenge\\n\\n\\nFollow ESPN\\n\\n\\n\\n\\nFacebook\\n\\n\\n\\n\\n\\n\\n\\nX/Twitter\\n\\n\\n\\n\\n\\n\\n\\nInstagram\\n\\n\\n\\n\\n\\n\\n\\nSnapchat\\n\\n\\n\\n\\n\\n\\n\\nTikTok\\n\\n\\n\\n\\n\\n\\n\\nYouTube\\n\\n\\nTerms of UsePrivacy PolicyInterest-Based Ads© ESPN Enterprises, Inc. All rights reserved.\\n\\n\\n\\n\\n\\n\\n\\n\\n\\n\\n\\n\\n\\n\\n\\n\\n\\n\")"
      ]
     },
     "execution_count": 4,
     "metadata": {},
     "output_type": "execute_result"
    }
   ],
   "source": [
    "from langchain_community.document_loaders import WebBaseLoader\n",
    "\n",
    "loader = WebBaseLoader(\"https://www.espn.com/\")\n",
    "documents = loader.load()\n",
    "documents[0]"
   ]
  },
  {
   "cell_type": "code",
   "execution_count": 5,
   "id": "c64a6f5b7fb8e3b1",
   "metadata": {
    "ExecuteTime": {
     "end_time": "2024-10-25T05:04:06.012880Z",
     "start_time": "2024-10-25T05:04:06.008868Z"
    }
   },
   "outputs": [
    {
     "data": {
      "text/plain": [
       "{'source': 'https://www.espn.com/',\n",
       " 'title': 'ESPN - Serving Sports Fans. Anytime. Anywhere.',\n",
       " 'description': 'Visit ESPN for live scores, highlights and sports news. Stream exclusive games on ESPN+ and play fantasy sports.',\n",
       " 'language': 'en'}"
      ]
     },
     "execution_count": 5,
     "metadata": {},
     "output_type": "execute_result"
    }
   ],
   "source": [
    "# checking out the metadata\n",
    "documents[0].metadata"
   ]
  },
  {
   "cell_type": "code",
   "execution_count": 6,
   "id": "7748b59954b2e87f",
   "metadata": {
    "ExecuteTime": {
     "end_time": "2024-10-25T05:05:59.155141Z",
     "start_time": "2024-10-25T05:05:58.689073Z"
    }
   },
   "outputs": [
    {
     "data": {
      "text/plain": [
       "'\\n\\n\\n\\n\\nWebBaseLoader | 🦜️🔗 LangChain\\n\\n\\n\\n\\n\\n\\n\\n\\nSkip to main contentOur Building Ambient Agents with LangGraph course is now available on LangChain Academy!IntegrationsAPI ReferenceMoreContributingPeopleError referenceLangSmithLangGraphLangChain HubLangChain JS/TSv0.3v0.3v0.2v0.1💬SearchProvidersAnthropicAWSGoogleHugging FaceMicrosoftOpenAIMoreProvidersAbsoAcreomActiveloop Deep LakeADS4GPTsAerospikeAgentQLAI21 LabsAimAINetworkAirbyteAirtableAlchemyAleph AlphaAlibaba CloudAnalyticDBAnnoyAnthropicAnyscaleApache Software FoundationApache DorisApifyAppleArangoDBArceeArcGISArgillaArizeArthurArxivAscendAskNewsAssemblyAIAstra DBAtlasAwaDBAWSAZLyricsAzure AIBAAIBagelBagelDBBaichuanBaiduBananaBasetenBeamBeautiful SoupBibTeXBiliBiliBittensorBlackboardbookend.aiBoxBrave SearchBreebs (Open Knowledge)Bright DataBrowserbaseBrowserlessByteDanceCassandraCerebrasCerebriumAIChaindeskChromaClarifaiClearMLClickHouseClickUpCloudflareClovaCnosDBCogneeCogniSwitchCohereCollege ConfidentialCometConfident AIConfluenceConneryContextContextual AICouchbaseCozeCrateDBC TransformersCTranslate2CubeDappierDashVectorDatabricksDatadog TracingDatadog LogsDataForSEODataheraldDedocDeepInfraDeeplakeDeepSeekDeepSparseDellDiffbotDingoDBDiscordDiscord (community loader)DocArrayDoclingDoctranDocugamiDocusaurusDriaDropboxDuckDBDuckDuckGo SearchE2BEden AIElasticsearchElevenLabsEmbedchainEpsillaEtherscanEverly AIEverNoteExaFacebook - MetaFalkorDBFaunaFeatherless AIFiddlerFigmaFireCrawlFireworks AIFlyteFMP Data (Financial Data Prep)Forefront AIFriendli AISmabblerGelGeopandasGitGitBookGitHubGitLabGOATGoldenGoodfireGoogleSerper - Google Search APIGooseAIGPT4AllGradientGraph RAGGraphsignalGreenNodeGrobidGroqGutenbergHacker NewsHazy ResearchHeliconeHologresHTML to textHuaweiHugging FaceHyperbrowserIBMIEIT SystemsiFixitiFlytekIMSDbInfinispan VSInfinityInfinoIntelIuguJaguarJavelin AI GatewayJenkinsJina AIJohnsnowlabsJoplinKDB.AIKineticaKoboldAIKonkoKoNLPYKùzuLabel StudiolakeFSLanceDBLangChain Decorators ✨LangFair: Use-Case Level LLM Bias and Fairness AssessmentsLangfuse 🪢LanternLindormLinkupLiteLLMLlamaIndexLlama.cppLlamaEdgellamafileLLMonitorLocalAILog10MariaDBMariTalkMarqoMediaWikiDumpMeilisearchMemcachedMemgraphMetalMicrosoftMilvusMindsDBMinimaxMistralAIMLflow AI Gateway for LLMsMLflowMLXModalModelScopeModern TreasuryMomentoMongoDBMongoDB AtlasMotherduckMotörheadMyScaleNAVERNebiusNeo4jNetmindNimbleNLPCloudNomicNotion DBNucliaNVIDIAObsidianOceanBaseOracle Cloud Infrastructure (OCI)OctoAIOllamaOntotext GraphDBOpenAIOpenGradientOpenLLMOpenSearchOpenWeatherMapOracleAI Vector SearchOutlineOutlinesOxylabsPandasPaymanAIPebbloPermitPerplexityPetalsPostgres EmbeddingPGVectorPineconePipelineAIPipeshiftPortkeyPredibasePrediction GuardPremAISWI-PrologPromptLayerPsychicPubMedPullMd LoaderPygmalionAIPyMuPDF4LLMQdrantRAGatouillerank_bm25Ray ServeRebuffRedditRedisRemembrallReplicateRoamSema4 (fka Robocorp)RocksetRunhouseRunpodRWKV-4SalesforceSambaNovaSAPScrapeGraph AISearchApiSearxNG Search APISemaDBSerpAPIShale ProtocolSingleStore Integrationscikit-learnSlackSnowflakespaCySparkSparkLLMSpreedlySQLiteStack ExchangeStarRocksStochasticAIStreamlitStripeSupabase (Postgres)SurrealDBNebulaTableauTaigaTairTavilyTelegramTencentTensorFlow DatasetsTensorlakeTiDBTigerGraphTigrisTiloresTogether AI2MarkdownTranswarpTrelloTrubricsTruLensTwitterTypesenseUnstructuredUpstageupstashUpTrainUSearchValtheraValyu Deep SearchVDMSVearchVectaraVectorizeVespavliteVoyageAIWeights & BiasesWeights & Biases tracingWeights & Biases trackingWeatherWeaviateWhatsAppWhyLabsWikipediaWolfram AlphaWriter, Inc.xAIXataXorbits Inference (Xinference)YahooYandexYDBYeager.aiYellowbrick01.AIYouYouTubeZepZhipu AIZillizZoteroComponentsChat modelsChat modelsAbsoAI21 LabsAlibaba Cloud PAI EASAnthropic[Deprecated] Experimental Anthropic Tools WrapperAnyscaleAzureAIChatCompletionsModelAzure OpenAIAzure ML EndpointBaichuan ChatBaidu QianfanAWS BedrockCerebrasCloudflareWorkersAICohereContextualAICoze ChatDappier AIDatabricksDeepInfraDeepSeekEden AIErnie Bot ChatEverlyAIFeatherless AIFireworksChatFriendliGoodfireGoogle GeminiGoogle Cloud Vertex AIGPTRouterGreenNodeGroqChatHuggingFaceIBM watsonx.aiJinaChatKineticaKonkoLiteLLMLlama 2 ChatLlama APILlamaEdgeLlama.cppmaritalkMiniMaxMistralAIMLXModelScopeMoonshotNaverNebiusNetmindNVIDIA AI EndpointsChatOCIModelDeploymentOCIGenAIChatOctoAIOllamaOpenAIOutlinesPerplexityPipeshiftChatPredictionGuardPremAIPromptLayer ChatOpenAIQwen QwQRekaRunPod Chat ModelSambaNovaCloudSambaStudioChatSeekrFlowSnowflake CortexsolarSparkLLM ChatNebula (Symbl.ai)Tencent HunyuanTogetherTongyi QwenUpstagevectaravLLM ChatVolc Engine MaasChat WriterxAIXinferenceYandexGPTChatYIYuan2.0ZHIPU AIRetrieversRetrieversActiveloop Deep MemoryAmazon KendraArceeArxivAskNewsAzure AI SearchBedrock (Knowledge Bases)BM25BoxBREEBS (Open Knowledge)ChaindeskChatGPT pluginCogneeCohere rerankerCohere RAGContextual AI RerankerDappierDocArrayDriaElasticSearch BM25ElasticsearchEmbedchainFlashRank rerankerFleet AI ContextGalaxiaGoogle DriveGoogle Vertex AI SearchGraph RAGGreenNodeIBM watsonx.aiJaguarDB Vector DatabaseKay.aiKinetica Vectorstore based RetrieverkNNLinkupSearchRetrieverLLMLingua Document CompressorLOTR (Merger Retriever)MetalNanoPQ (Product Quantization)NebiusneedleNimbleOutlinePermitPinecone Hybrid SearchPinecone RerankPubMedQdrant Sparse VectorRAGatouilleRePhraseQueryRememberizerSEC filingSelf-querying retrieversSVMTavilySearchAPITF-IDF**NeuralDB**ValyuContextVectorizeVespaWikipediaYou.comZep CloudZep Open SourceZilliz Cloud PipelineZoteroTools/ToolkitsToolsADS4GPTsAgentQLAINetwork ToolkitAlpha VantageAmadeus ToolkitApify ActorArXivAskNewsAWS LambdaAzure AI Services ToolkitAzure Cognitive Services ToolkitAzure Container Apps dynamic sessionsShell (bash)Bearly Code InterpreterBing SearchBrave SearchBrightDataWebScraperAPIBrightDataSERPBrightDataUnlockerCassandra Database ToolkitCDPChatGPT PluginsClickUp ToolkitCogniswitch ToolkitCompass DeFi ToolkitConnery Toolkit and ToolsDall-E Image GeneratorDappierDatabricks Unity Catalog (UC)DataForSEODataheraldDuckDuckGo SearchDiscordE2B Data AnalysisEden AIElevenLabs Text2SpeechExa SearchFile SystemFinancialDatasets ToolkitFMP DataGithub ToolkitGitlab ToolkitGmail ToolkitGOATGolden QueryGoogle BooksGoogle Calendar ToolkitGoogle Cloud Text-to-SpeechGoogle DriveGoogle FinanceGoogle ImagenGoogle JobsGoogle LensGoogle PlacesGoogle ScholarGoogle SearchGoogle SerperGoogle TrendsGradioGraphQLHuggingFace Hub ToolsHuman as a toolHyperbrowser Browser Agent ToolsHyperbrowser Web Scraping ToolsIBM watsonx.aiIFTTT WebHooksInfobipIonic Shopping ToolJenkinsJina SearchJira ToolkitJSON ToolkitLemon AgentLinkupSearchToolMemgraphMemorizeMojeek SearchMultiOn ToolkitNASA ToolkitNaver SearchNuclia UnderstandingNVIDIA Riva: ASR and TTSOffice365 ToolkitOpenAPI ToolkitNatural Language API ToolkitsOpenGradientOpenWeatherMapOracle AI Vector Search: Generate SummaryOxylabsPandas DataframePassio NutritionAIPaymanAIPermitPlayWright Browser ToolkitPolygon IO Toolkit and ToolsPowerBI ToolkitPrologPubMedPython REPLReddit SearchRequests ToolkitRiza Code InterpreterRobocorp ToolkitSalesforceSceneXplainScrapeGraphSearchApiSearxNG SearchSemantic Scholar API ToolSerpAPISlack ToolkitSpark SQL ToolkitSQLDatabase ToolkitStackExchangeSteam ToolkitStripeTableauTaigaTavily ExtractTavily SearchTiloresTwilioUpstageValtheraValyuContextVectaraWikidataWikipediaWolfram AlphaWriter ToolsYahoo Finance NewsYou.com SearchYouTubeZapier Natural Language ActionsZenGuard AIDocument loadersDocument loadersacreomAgentQLLoaderAirbyteLoaderAirbyte CDK (Deprecated)Airbyte Gong (Deprecated)Airbyte Hubspot (Deprecated)Airbyte JSON (Deprecated)Airbyte Salesforce (Deprecated)Airbyte Shopify (Deprecated)Airbyte Stripe (Deprecated)Airbyte Typeform (Deprecated)Airbyte Zendesk Support (Deprecated)AirtableAlibaba Cloud MaxComputeAmazon TextractApify DatasetArcGISArxivLoaderAssemblyAI Audio TranscriptsAstraDBAsync ChromiumAsyncHtmlAthenaAWS S3 DirectoryAWS S3 FileAZLyricsAzure AI DataAzure Blob Storage ContainerAzure Blob Storage FileAzure AI Document IntelligenceBibTeXBiliBiliBlackboardBlockchainBoxBrave SearchBrowserbaseBrowserlessBSHTMLLoaderCassandraChatGPT DataCollege ConfidentialConcurrent LoaderConfluenceCoNLL-UCopy PasteCouchbaseCSVCube Semantic LayerDatadog LogsDedocDiffbotDiscordDoclingDocugamiDocusaurusDropboxDuckDBEmailEPubEtherscanEverNoteexample_dataFacebook ChatFaunaFigmaFireCrawlGeopandasGitGitBookGitHubGlue CatalogGoogle AlloyDB for PostgreSQLGoogle BigQueryGoogle BigtableGoogle Cloud SQL for SQL serverGoogle Cloud SQL for MySQLGoogle Cloud SQL for PostgreSQLGoogle Cloud Storage DirectoryGoogle Cloud Storage FileGoogle Firestore in Datastore ModeGoogle DriveGoogle El Carro for Oracle WorkloadsGoogle Firestore (Native Mode)Google Memorystore for RedisGoogle SpannerGoogle Speech-to-Text Audio TranscriptsGrobidGutenbergHacker NewsHuawei OBS DirectoryHuawei OBS FileHuggingFace datasetHyperbrowserLoaderiFixitImagesImage captionsIMSDbIuguJoplinJSONLoaderJupyter NotebookKineticalakeFSLangSmithLarkSuite (FeiShu)LLM SherpaMastodonMathPixPDFLoaderMediaWiki DumpMerge Documents LoadermhtmlMicrosoft ExcelMicrosoft OneDriveMicrosoft OneNoteMicrosoft PowerPointMicrosoft SharePointMicrosoft WordNear BlockchainModern TreasuryMongoDBNeedle Document LoaderNews URLNotion DB 2/2NucliaObsidianOpen Document Format (ODT)Open City DataOracle Autonomous DatabaseOracle AI Vector Search: Document ProcessingOrg-modeOutline Document LoaderPandas DataFrameparsersPDFMinerLoaderPDFPlumberPebblo Safe DocumentLoaderPolars DataFrameDell PowerScale Document LoaderPsychicPubMedPullMdLoaderPyMuPDFLoaderPyMuPDF4LLMPyPDFDirectoryLoaderPyPDFium2LoaderPyPDFLoaderPySparkQuipReadTheDocs DocumentationRecursive URLRedditRoamRocksetrspaceRSS FeedsRSTscrapflyScrapingAntSingleStoreSitemapSlackSnowflakeSource CodeSpiderSpreedlyStripeSubtitleSurrealDBTelegramTencent COS DirectoryTencent COS FileTensorFlow DatasetsTiDB2MarkdownTOMLTrelloTSVTwitterUnstructuredUnstructuredMarkdownLoaderUnstructuredPDFLoaderUpstageURLVsdxWeatherWebBaseLoaderWhatsApp ChatWikipediaUnstructuredXMLLoaderXorbits Pandas DataFrameYouTube audioYouTube transcriptsYoutubeLoaderDLYuqueZeroxPDFLoaderVector storesVector storesActiveloop Deep LakeAerospikeAlibaba Cloud OpenSearchAnalyticDBAnnoyApache DorisApertureDBAstra DB Vector StoreAtlasAwaDBAzure Cosmos DB Mongo vCoreAzure Cosmos DB No SQLAzure AI SearchBagelBagelDBBaidu Cloud ElasticSearch VectorSearchBaidu VectorDBApache CassandraChromaClarifaiClickHouseCloudflareVectorizeCouchbaseDashVectorDatabricksIBM Db2 Vector Store and Vector SearchDingoDBDocArray HnswSearchDocArray InMemorySearchAmazon Document DBDuckDBChina Mobile ECloud ElasticSearch VectorSearchElasticsearchEpsillaFaissFaiss (Async)FalkorDBVectorStoreGelGoogle AlloyDB for PostgreSQLGoogle BigQuery Vector SearchGoogle Cloud SQL for MySQLGoogle Cloud SQL for PostgreSQLFirestoreGoogle Memorystore for RedisGoogle SpannerGoogle Vertex AI Feature StoreGoogle Vertex AI Vector SearchHippoHologresInfinispanJaguar Vector DatabaseKDB.AIKineticaLanceDBLanternLindormLLMRailsManticoreSearch VectorStoreMariaDBMarqoMeilisearchAmazon MemoryDBMilvusMomento Vector Index (MVI)MongoDB AtlasMyScaleNeo4j Vector IndexNucliaDBOceanbaseopenGaussOpenSearchOracle AI Vector Search: Vector StorePathwayPostgres EmbeddingPGVecto.rsPGVectorPineconePinecone (sparse)QdrantRedisRelytRocksetSAP HANA Cloud Vector EngineScaNNSemaDBSingleStorescikit-learnSQLiteVecSQLite-VSSSQLServerStarRocksSupabase (Postgres)SurrealDBVectorStoreTablestoreTairTencent Cloud VectorDBThirdAI NeuralDBTiDB VectorTigrisTileDBTimescale Vector (Postgres)TypesenseUpstash VectorUSearchValdVDMSVearchVectaraVespaviking DBvliteWeaviateXataYDBYellowbrickZepZep CloudZillizEmbedding modelsEmbedding modelsAleph AlphaAnyscaleascendAwaDBAzureOpenAIBaichuan Text EmbeddingsBaidu QianfanBedrockBGE on Hugging FaceBookend AIClarifaiCloudflare Workers AIClova EmbeddingsCohereDashScopeDatabricksDeepInfraEDEN AIElasticsearchEmbaasERNIEFake EmbeddingsFastEmbed by QdrantFireworksGoogle GeminiGoogle Vertex AIGPT4AllGradientGreenNodeHugging FaceIBM watsonx.aiInfinityInstruct Embeddings on Hugging FaceIPEX-LLM: Local BGE Embeddings on Intel CPUIPEX-LLM: Local BGE Embeddings on Intel GPUIntel® Extension for Transformers Quantized Text EmbeddingsJinaJohn Snow LabsLASER Language-Agnostic SEntence Representations Embeddings by Meta AILindormLlama.cppllamafileLLMRailsLocalAIMiniMaxMistralAImodel2vecModelScopeMosaicMLNaverNebiusNetmindNLP CloudNomicNVIDIA NIMsOracle Cloud Infrastructure Generative AIOllamaOpenClipOpenAIOpenVINOEmbedding Documents using Optimized and Quantized EmbeddersOracle AI Vector Search: Generate EmbeddingsOVHcloudPinecone EmbeddingsPredictionGuardEmbeddingsPremAISageMakerSambaNovaCloudSambaStudioSelf HostedSentence Transformers on Hugging FaceSolarSpaCySparkLLM Text EmbeddingsTensorFlow HubText Embeddings InferenceTextEmbed - Embedding Inference ServerTitan TakeoffTogether AIUpstageVolc EngineVoyage AIXorbits inference (Xinference)YandexGPTZhipuAIOtherComponentsDocument loadersWebBaseLoaderOn this pageWebBaseLoader\\nThis covers how to use WebBaseLoader to load all text from HTML webpages into a document format that we can use downstream. For more custom logic for loading webpages look at some child class examples such as IMSDbLoader, AZLyricsLoader, and CollegeConfidentialLoader.\\nIf you don\\'t want to worry about website crawling, bypassing JS-blocking sites, and data cleaning, consider using FireCrawlLoader or the faster option SpiderLoader.\\nOverview\\u200b\\nIntegration details\\u200b\\n\\nTODO: Fill in table features.\\nTODO: Remove JS support link if not relevant, otherwise ensure link is correct.\\nTODO: Make sure API reference links are correct.\\n\\nClassPackageLocalSerializableJS supportWebBaseLoaderlangchain_community✅❌❌\\nLoader features\\u200b\\nSourceDocument Lazy LoadingNative Async SupportWebBaseLoader✅✅\\nSetup\\u200b\\nCredentials\\u200b\\nWebBaseLoader does not require any credentials.\\nInstallation\\u200b\\nTo use the WebBaseLoader you first need to install the langchain-community python package.\\n%pip install -qU langchain_community beautifulsoup4\\nInitialization\\u200b\\nNow we can instantiate our model object and load documents:\\nfrom langchain_community.document_loaders import WebBaseLoaderloader = WebBaseLoader(\"https://www.example.com/\")API Reference:WebBaseLoader\\nTo bypass SSL verification errors during fetching, you can set the \"verify\" option:\\nloader.requests_kwargs = {\\'verify\\':False}\\nInitialization with multiple pages\\u200b\\nYou can also pass in a list of pages to load from.\\nloader_multiple_pages = WebBaseLoader(    [\"https://www.example.com/\", \"https://google.com\"])\\nLoad\\u200b\\ndocs = loader.load()docs[0]\\nDocument(metadata={\\'source\\': \\'https://www.example.com/\\', \\'title\\': \\'Example Domain\\', \\'language\\': \\'No language found.\\'}, page_content=\\'\\\\n\\\\n\\\\nExample Domain\\\\n\\\\n\\\\n\\\\n\\\\n\\\\n\\\\n\\\\nExample Domain\\\\nThis domain is for use in illustrative examples in documents. You may use this\\\\n    domain in literature without prior coordination or asking for permission.\\\\nMore information...\\\\n\\\\n\\\\n\\\\n\\')\\nprint(docs[0].metadata)\\n{\\'source\\': \\'https://www.example.com/\\', \\'title\\': \\'Example Domain\\', \\'language\\': \\'No language found.\\'}\\nLoad multiple urls concurrently\\u200b\\nYou can speed up the scraping process by scraping and parsing multiple urls concurrently.\\nThere are reasonable limits to concurrent requests, defaulting to 2 per second.  If you aren\\'t concerned about being a good citizen, or you control the server you are scraping and don\\'t care about load, you can change the requests_per_second parameter to increase the max concurrent requests.  Note, while this will speed up the scraping process, but may cause the server to block you.  Be careful!\\n%pip install -qU  nest_asyncio# fixes a bug with asyncio and jupyterimport nest_asyncionest_asyncio.apply()\\nNote: you may need to restart the kernel to use updated packages.\\nloader = WebBaseLoader([\"https://www.example.com/\", \"https://google.com\"])loader.requests_per_second = 1docs = loader.aload()docs\\nFetching pages: 100%|###########################################################################| 2/2 [00:00<00:00,  8.28it/s]\\n[Document(metadata={\\'source\\': \\'https://www.example.com/\\', \\'title\\': \\'Example Domain\\', \\'language\\': \\'No language found.\\'}, page_content=\\'\\\\n\\\\n\\\\nExample Domain\\\\n\\\\n\\\\n\\\\n\\\\n\\\\n\\\\n\\\\nExample Domain\\\\nThis domain is for use in illustrative examples in documents. You may use this\\\\n    domain in literature without prior coordination or asking for permission.\\\\nMore information...\\\\n\\\\n\\\\n\\\\n\\'), Document(metadata={\\'source\\': \\'https://google.com\\', \\'title\\': \\'Google\\', \\'description\\': \"Search the world\\'s information, including webpages, images, videos and more. Google has many special features to help you find exactly what you\\'re looking for.\", \\'language\\': \\'en\\'}, page_content=\\'GoogleSearch Images Maps Play YouTube News Gmail Drive More »Web History | Settings | Sign in\\\\xa0Advanced search5 ways Gemini can help during the HolidaysAdvertisingBusiness SolutionsAbout Google\\x00© 2024 - Privacy - Terms  \\')]\\nLoading a xml file, or using a different BeautifulSoup parser\\u200b\\nYou can also look at SitemapLoader for an example of how to load a sitemap file, which is an example of using this feature.\\nloader = WebBaseLoader(    \"https://www.govinfo.gov/content/pkg/CFR-2018-title10-vol3/xml/CFR-2018-title10-vol3-sec431-86.xml\")loader.default_parser = \"xml\"docs = loader.load()docs\\n[Document(metadata={\\'source\\': \\'https://www.govinfo.gov/content/pkg/CFR-2018-title10-vol3/xml/CFR-2018-title10-vol3-sec431-86.xml\\'}, page_content=\\'\\\\n\\\\n10\\\\nEnergy\\\\n3\\\\n2018-01-01\\\\n2018-01-01\\\\nfalse\\\\nUniform test method for the measurement of energy efficiency of commercial packaged boilers.\\\\nÂ§ 431.86\\\\nSection Â§ 431.86\\\\n\\\\nEnergy\\\\nDEPARTMENT OF ENERGY\\\\nENERGY CONSERVATION\\\\nENERGY EFFICIENCY PROGRAM FOR CERTAIN COMMERCIAL AND INDUSTRIAL EQUIPMENT\\\\nCommercial Packaged Boilers\\\\nTest Procedures\\\\n\\\\n\\\\n\\\\n\\\\n§\\\\u2009431.86\\\\nUniform test method for the measurement of energy efficiency of commercial packaged boilers.\\\\n(a) Scope. This section provides test procedures, pursuant to the Energy Policy and Conservation Act (EPCA), as amended, which must be followed for measuring the combustion efficiency and/or thermal efficiency of a gas- or oil-fired commercial packaged boiler.\\\\n(b) Testing and Calculations. Determine the thermal efficiency or combustion efficiency of commercial packaged boilers by conducting the appropriate test procedure(s) indicated in Table 1 of this section.\\\\n\\\\nTable 1—Test Requirements for Commercial Packaged Boiler Equipment Classes\\\\n\\\\nEquipment category\\\\nSubcategory\\\\nCertified rated inputBtu/h\\\\n\\\\nStandards efficiency metric(§\\\\u2009431.87)\\\\n\\\\nTest procedure(corresponding to\\\\nstandards efficiency\\\\nmetric required\\\\nby §\\\\u2009431.87)\\\\n\\\\n\\\\n\\\\nHot Water\\\\nGas-fired\\\\n≥300,000 and ≤2,500,000\\\\nThermal Efficiency\\\\nAppendix A, Section 2.\\\\n\\\\n\\\\nHot Water\\\\nGas-fired\\\\n>2,500,000\\\\nCombustion Efficiency\\\\nAppendix A, Section 3.\\\\n\\\\n\\\\nHot Water\\\\nOil-fired\\\\n≥300,000 and ≤2,500,000\\\\nThermal Efficiency\\\\nAppendix A, Section 2.\\\\n\\\\n\\\\nHot Water\\\\nOil-fired\\\\n>2,500,000\\\\nCombustion Efficiency\\\\nAppendix A, Section 3.\\\\n\\\\n\\\\nSteam\\\\nGas-fired (all*)\\\\n≥300,000 and ≤2,500,000\\\\nThermal Efficiency\\\\nAppendix A, Section 2.\\\\n\\\\n\\\\nSteam\\\\nGas-fired (all*)\\\\n>2,500,000 and ≤5,000,000\\\\nThermal Efficiency\\\\nAppendix A, Section 2.\\\\n\\\\n\\\\n\\\\u2003\\\\n\\\\n>5,000,000\\\\nThermal Efficiency\\\\nAppendix A, Section 2.OR\\\\nAppendix A, Section 3 with Section 2.4.3.2.\\\\n\\\\n\\\\n\\\\nSteam\\\\nOil-fired\\\\n≥300,000 and ≤2,500,000\\\\nThermal Efficiency\\\\nAppendix A, Section 2.\\\\n\\\\n\\\\nSteam\\\\nOil-fired\\\\n>2,500,000 and ≤5,000,000\\\\nThermal Efficiency\\\\nAppendix A, Section 2.\\\\n\\\\n\\\\n\\\\u2003\\\\n\\\\n>5,000,000\\\\nThermal Efficiency\\\\nAppendix A, Section 2.OR\\\\nAppendix A, Section 3. with Section 2.4.3.2.\\\\n\\\\n\\\\n\\\\n*\\\\u2009Equipment classes for commercial packaged boilers as of July 22, 2009 (74 FR 36355) distinguish between gas-fired natural draft and all other gas-fired (except natural draft).\\\\n\\\\n(c) Field Tests. The field test provisions of appendix A may be used only to test a unit of commercial packaged boiler with rated input greater than 5,000,000 Btu/h.\\\\n[81 FR 89305, Dec. 9, 2016]\\\\n\\\\n\\\\nEnergy Efficiency Standards\\\\n\\\\n\\')]\\nLazy Load\\u200b\\nYou can use lazy loading to only load one page at a time in order to minimize memory requirements.\\npages = []for doc in loader.lazy_load():    pages.append(doc)print(pages[0].page_content[:100])print(pages[0].metadata)\\n10Energy32018-01-012018-01-01falseUniform test method for the measurement of energy efficien{\\'source\\': \\'https://www.govinfo.gov/content/pkg/CFR-2018-title10-vol3/xml/CFR-2018-title10-vol3-sec431-86.xml\\'}\\nAsync\\u200b\\npages = []async for doc in loader.alazy_load():    pages.append(doc)print(pages[0].page_content[:100])print(pages[0].metadata)\\nFetching pages: 100%|###########################################################################| 1/1 [00:00<00:00, 10.51it/s]``````output10Energy32018-01-012018-01-01falseUniform test method for the measurement of energy efficien{\\'source\\': \\'https://www.govinfo.gov/content/pkg/CFR-2018-title10-vol3/xml/CFR-2018-title10-vol3-sec431-86.xml\\'}\\nUsing proxies\\u200b\\nSometimes you might need to use proxies to get around IP blocks. You can pass in a dictionary of proxies to the loader (and requests underneath) to use them.\\nloader = WebBaseLoader(    \"https://www.walmart.com/search?q=parrots\",    proxies={        \"http\": \"http://{username}:{password}:@proxy.service.com:6666/\",        \"https\": \"https://{username}:{password}:@proxy.service.com:6666/\",    },)docs = loader.load()\\nAPI reference\\u200b\\nFor detailed documentation of all WebBaseLoader features and configurations head to the API reference: https://python.langchain.com/api_reference/community/document_loaders/langchain_community.document_loaders.web_base.WebBaseLoader.html\\nRelated\\u200b\\n\\nDocument loader conceptual guide\\nDocument loader how-to guides\\nEdit this pagePreviousWeatherNextWhatsApp ChatOverviewIntegration detailsLoader featuresSetupCredentialsInstallationInitializationInitialization with multiple pagesLoadLoad multiple urls concurrentlyLoading a xml file, or using a different BeautifulSoup parserLazy LoadAsyncUsing proxiesAPI referenceRelatedCommunityLangChain ForumTwitterSlackGitHubOrganizationPythonJS/TSMoreHomepageBlogYouTubeCopyright © 2025 LangChain, Inc.\\n\\n'"
      ]
     },
     "execution_count": 6,
     "metadata": {},
     "output_type": "execute_result"
    }
   ],
   "source": [
    "# load multiple pages\n",
    "loader = WebBaseLoader([\"https://www.espn.com/\", \"https://python.langchain.com/docs/integrations/document_loaders/web_base/\"])\n",
    "documents = loader.load()\n",
    "documents[1].page_content"
   ]
  },
  {
   "cell_type": "markdown",
   "id": "30e4966edb571ed9",
   "metadata": {},
   "source": [
    "### Loading CSV files into Document objects"
   ]
  },
  {
   "cell_type": "code",
   "execution_count": 9,
   "id": "946a4aebb3184352",
   "metadata": {
    "ExecuteTime": {
     "end_time": "2024-10-25T05:14:13.466035Z",
     "start_time": "2024-10-25T05:14:13.279151Z"
    }
   },
   "outputs": [
    {
     "name": "stdout",
     "output_type": "stream",
     "text": [
      "18025\n"
     ]
    },
    {
     "data": {
      "text/plain": [
       "'Name: Boiler Emissions- Total SO2 Emissions'"
      ]
     },
     "execution_count": 9,
     "metadata": {},
     "output_type": "execute_result"
    }
   ],
   "source": [
    "from langchain_community.document_loaders.csv_loader import CSVLoader\n",
    "\n",
    "loader = CSVLoader(file_path=\"Air_Quality.csv\", content_columns=[\"Name\"])\n",
    "documents = loader.load()\n",
    "print(len(documents))\n",
    "documents[0].page_content"
   ]
  },
  {
   "cell_type": "markdown",
   "id": "9d1f7854",
   "metadata": {},
   "source": [
    "### Loading PDFs"
   ]
  },
  {
   "cell_type": "code",
   "execution_count": 10,
   "id": "0081d907",
   "metadata": {},
   "outputs": [
    {
     "name": "stdout",
     "output_type": "stream",
     "text": [
      "Requirement already satisfied: pypdf in d:\\ml projects\\rag-langchain-master\\venv\\lib\\site-packages (5.8.0)\n",
      "Note: you may need to restart the kernel to use updated packages.\n",
      "number of pages:  468\n",
      "First 500 characters of first page:\n",
      "CHAPTER I.\n",
      "LOOMINGS\n",
      "Call me Ishmael. Some years ago—never mind how long precisely—having little\n",
      "or no money in my purse, and nothing particular to interest me on shore, I thought\n",
      "I would sail about a little and see the watery part of the world. It is a way I have\n",
      "of driving oﬀ the spleen, and regulating the circulation. Whenever I ﬁnd myself\n",
      "growing grim about the mouth; whenever it is a damp, drizzly November in my\n",
      "soul; whenever I ﬁnd myself involuntarily pausing before coﬃn warehouses, and\n",
      "br\n"
     ]
    }
   ],
   "source": [
    "%pip install pypdf\n",
    "\n",
    "# load moby dick into a langchain doc\n",
    "from langchain_community.document_loaders import PyPDFLoader\n",
    "\n",
    "loader = PyPDFLoader(\"moby-dick.pdf\")\n",
    "documents = loader.load()\n",
    "\n",
    "print(\"number of pages: \", len(documents))\n",
    "\n",
    "# Print first 500 characters of first page\n",
    "print(\"First 500 characters of first page:\")\n",
    "print(documents[7].page_content[:500])\n"
   ]
  },
  {
   "cell_type": "markdown",
   "id": "d4f12f7b1dd3d6d1",
   "metadata": {},
   "source": [
    "### Cleaning up the data after loading\n",
    "If you look at the page_content grabbed from a website or the text content grabbed from a file, you will see that it contains a lot of unwanted characters like newlines, tabs, etc."
   ]
  },
  {
   "cell_type": "code",
   "execution_count": 11,
   "id": "6ea04291a80079ca",
   "metadata": {
    "ExecuteTime": {
     "end_time": "2024-10-25T05:22:40.265368Z",
     "start_time": "2024-10-25T05:22:35.720896Z"
    }
   },
   "outputs": [
    {
     "name": "stdout",
     "output_type": "stream",
     "text": [
      "Note: you may need to restart the kernel to use updated packages.\n"
     ]
    }
   ],
   "source": [
    "%pip install --upgrade --quiet html2text"
   ]
  },
  {
   "cell_type": "code",
   "execution_count": 12,
   "id": "e996f165b1718e85",
   "metadata": {
    "ExecuteTime": {
     "end_time": "2024-10-25T05:26:30.368870Z",
     "start_time": "2024-10-25T05:26:30.170697Z"
    }
   },
   "outputs": [
    {
     "name": "stderr",
     "output_type": "stream",
     "text": [
      "USER_AGENT environment variable not set, consider setting it to identify your requests.\n",
      "Fetching pages: 100%|##########| 1/1 [00:01<00:00,  1.30s/it]"
     ]
    },
    {
     "name": "stdout",
     "output_type": "stream",
     "text": [
      "Skip to main content  Skip to navigation\n",
      "\n",
      "<\n",
      "\n",
      ">\n",
      "\n",
      "Menu\n",
      "\n",
      "## ESPN\n",
      "\n",
      "  *   *   *   * scores\n",
      "\n",
      "  * NFL\n",
      "  * NBA\n",
      "  * MLB\n",
      "  * WNBA\n",
      "  * Soccer\n",
      "  * Golf\n",
      "  * NHL\n",
      "  * More Sports\n",
      "\n",
      "    * Boxing\n",
      "    * NCAA\n",
      "    * Cricket\n",
      "    * F1\n",
      "    * Gaming\n",
      "    * Horse\n",
      "    * LLWS\n",
      "    * MMA\n",
      "    * NASCAR\n",
      "    * NLL\n",
      "    * NBA G League\n",
      "    * NBA Summer League\n",
      "    * NCAAF\n",
      "    * NCAAM\n",
      "    * NCAAW\n",
      "    * NWSL\n",
      "    * Olympics\n",
      "    * PLL\n",
      "    * Professional Wrestling\n",
      "    * Racing\n",
      "    * RN BB\n",
      "    * RN FB\n",
      "    * Rugby\n",
      "    * Sports Betting\n",
      "    * Tennis\n",
      "    * TGL\n",
      "    * UFL\n",
      "    * X Games\n",
      "\n",
      "  * Editions\n",
      "  * Fantasy\n",
      "  * Watch\n",
      "  * ESPN BET\n",
      "  * ESPN+\n",
      "\n",
      "##\n",
      "\n",
      "  * Subscribe Now\n",
      "  * UFC 318: Holloway vs. Poirier 3 (PPV)\n",
      "\n",
      "  * NFL FLAG\n",
      "\n",
      "  * NBA Summer League\n",
      "\n",
      "  * The Ultimate Fighter\n",
      "\n",
      "  * Little League Softball\n",
      "\n",
      "## Quick Links\n",
      "\n",
      "  * NBA Free Agency\n",
      "\n",
      "  * NBA Summer League\n",
      "\n",
      "  * WNBA Season Schedule\n",
      "\n",
      "  * The Open\n",
      "\n",
      "  * Where To Watch\n",
      "\n",
      "  * Today's Top Odds\n",
      "\n",
      "  * ESPN Radio: Listen Live\n",
      "\n",
      "## Favorites\n",
      "\n",
      "Manage Favorites\n",
      "\n",
      "## Customize ESPN\n",
      "\n",
      "Create AccountLog In\n",
      "\n",
      "## Fantasy\n",
      "\n",
      "  * Football\n",
      "\n",
      "  * Baseball\n",
      "\n",
      "  * Hockey\n",
      "\n",
      "  * Men's Basketball\n",
      "\n",
      "  * Women's Basketball\n",
      "\n",
      "## ESPN Sites\n",
      "\n",
      "  * ESPN Deportes\n",
      "\n",
      "  * Andscape\n",
      "\n",
      "  * espnW\n",
      "\n",
      "  * ESPNFC\n",
      "\n",
      "  * X Games\n",
      "\n",
      "  * SEC Network\n",
      "\n",
      "## ESPN Apps\n",
      "\n",
      "  * ESPN\n",
      "\n",
      "  * ESPN Fantasy\n",
      "\n",
      "  * Tournament Challenge\n",
      "\n",
      "## Follow ESPN\n",
      "\n",
      "  * Facebook\n",
      "\n",
      "  * X/Twitter\n",
      "\n",
      "  * Instagram\n",
      "\n",
      "  * Snapchat\n",
      "\n",
      "  * TikTok\n",
      "\n",
      "  * YouTube\n",
      "\n",
      "## Scottie Scheffler makes final putt to win the Open Championship\n",
      "\n",
      "11h\n",
      "\n",
      "1:14\n",
      "\n",
      "## Scheffler's unique dominance over golf continues at Open Championship\n",
      "\n",
      "Scheffler's march on Royal Portrush was a masterclass and proof that his\n",
      "approach is unlike anyone else's.\n",
      "\n",
      "8hPaolo Uggetti\n",
      "\n",
      "  * ⛳ Sights and sounds from final round of Open Championship\n",
      "\n",
      "## TOP HEADLINES\n",
      "\n",
      "  * NFLPA's Tretter to resign amid union overhaul\n",
      "  * Trump aims at stadium over Commanders' name\n",
      "  * No drama: Scheffler adds The Open, 3rd Slam leg\n",
      "  * Knueppel-led Hornets win 1st summer league title\n",
      "  * 'Progressing' Clark likely out for Fever Tuesday\n",
      "\n",
      "  * Cowboys' Smith: Super Bowl still the expectation\n",
      "  * No. 1 running back Cooper commits to Longhorns\n",
      "  * Reports: MLB looking into Braves coach's actions\n",
      "  * 💎 Eagles' Super Bowl ring has pop-out wings\n",
      "\n",
      "NBA Summer League - Final\n",
      "\n",
      "## MLB SCOREBOARD\n",
      "\n",
      "  * 📅 Complete scoreboard\n",
      "\n",
      "  * ⬆⬇ Standings\n",
      "\n",
      "## Inside Vikings' creative plan that saved J.J. McCarthy's lost rookie season\n",
      "\n",
      "20hKevin Seifert\n",
      "\n",
      "## SUMMER LEAGUE SCOREBOARD\n",
      "\n",
      "  * How to watch, schedule, rosters, news\n",
      "\n",
      "## AROUND THE WNBA\n",
      "\n",
      "## WNBA All-Star grades: MVP Collier scores A+ in leading team to victory\n",
      "\n",
      "Napheesa Collier, Sabrina Ionescu and Natasha Cloud scored high marks on All-\n",
      "Star weekend.\n",
      "\n",
      "1dKevin Pelton and Michael Voepel\n",
      "\n",
      "  * 🏀 Takeaways: Team Collier wins, Skylar makes history\n",
      "\n",
      "## MLB TRADE DEADLINE\n",
      "\n",
      "### JULY 31 AT 6 P.M. ET\n",
      "\n",
      "## Our latest intel on trade deadline rumors, Tucker's free agency and more\n",
      "\n",
      "Which teams will go all-in at the deadline? Here's everything our MLB insiders\n",
      "heard in Atlanta.\n",
      "\n",
      "3dJorge Castillo, +4 More\n",
      "\n",
      "## MORE REACTION FROM THE OPEN\n",
      "\n",
      "## Scheffler: Winning The Open 'a very special feeling'\n",
      "\n",
      "1h\n",
      "\n",
      "1:29\n",
      "\n",
      "  * Who has won the Open Championship? All-time golf champions\n",
      "\n",
      "  * Which players have won a golf career Grand Slam?\n",
      "\n",
      "##  Top Headlines\n",
      "\n",
      "  * NFLPA's Tretter to resign amid union overhaul\n",
      "  * Trump aims at stadium over Commanders' name\n",
      "  * No drama: Scheffler adds The Open, 3rd Slam leg\n",
      "  * Knueppel-led Hornets win 1st summer league title\n",
      "  * 'Progressing' Clark likely out for Fever Tuesday\n",
      "  * Cowboys' Smith: Super Bowl still the expectation\n",
      "  * No. 1 running back Cooper commits to Longhorns\n",
      "  * Reports: MLB looking into Braves coach's actions\n",
      "  * 💎 Eagles' Super Bowl ring has pop-out wings\n",
      "\n",
      "## Favorites\n",
      "\n",
      "## Fantasy\n",
      "\n",
      "Manage FavoritesFantasy Home\n",
      "\n",
      "## Customize ESPN\n",
      "\n",
      "Create AccountLog In\n",
      "\n",
      "## ICYMI\n",
      "\n",
      "  *   * ## Max Holloway wins electrifying fight in Dustin Poirier's final bout\n",
      "\n",
      "Max Holloway wins by unanimous decision over Dustin Poirier in the final fight\n",
      "of Poirier's career.\n",
      "\n",
      "## Trending Now\n",
      "\n",
      "  * AP Photo/Chris O'Meara\n",
      "  * ## Judging 2025 NFL offseason overreactions: Bucs, Browns, more\n",
      "\n",
      "Is the Bucs QB destined for a massive new contract? Will the Commanders own\n",
      "the NFC East? We're judging offseason overreactions.\n",
      "\n",
      "  * University Images via Getty Images\n",
      "  * ## July update: 2025 top 10 prospect rankings for all 30 MLB teams\n",
      "\n",
      "Who is rising and falling in every major league farm system after the MLB\n",
      "draft? Kiley McDaniel digs in.\n",
      "\n",
      "  * Brian Fluharty/Getty Images\n",
      "  * ## Tracking Fever star Caitlin Clark's injuries and WNBA season\n",
      "\n",
      "Three separate injuries have sidelined the Indiana point guard and All-Star\n",
      "for 10 regular-season WNBA games.\n",
      "\n",
      "  * Mark J. Rebilas-Imagn Images\n",
      "  * ## How Bradley Beal and the Phoenix Suns finalized their contentious divorce\n",
      "\n",
      "Throughout the February trade deadline to the draft to free agency, one\n",
      "element of the Suns' roster-building failure has loomed for the Suns: How to\n",
      "end their marriage to the three-time All-Star.\n",
      "\n",
      "  * Stuart Kerr/R&A;/R&A; via Getty Images\n",
      "  * ## Before he was the best golfer of his generation, Rory McIlroy was an East Tennessee State commit\n",
      "\n",
      "Fred Warren was one of the first college coaches to recruit heavily from\n",
      "Europe. And he nearly snagged a young McIlroy.\n",
      "\n",
      "## Sign up to play the #1 Fantasy game!\n",
      "\n",
      "Create A LeagueJoin Public LeagueReactivate A League\n",
      "\n",
      "Mock Draft Now\n",
      "\n",
      "## Sign up for FREE!\n",
      "\n",
      "Create A LeagueJoin a Public LeagueReactivate a League\n",
      "\n",
      "Practice with a Mock Draft\n",
      "\n",
      "## Sign up for FREE!\n",
      "\n",
      "Reactivate A LeagueCreate A LeagueJoin a Public League\n",
      "\n",
      "Practice With a Mock Draft\n",
      "\n",
      "## ESPN+ on Disney+\n",
      "\n",
      "  * Mike Windle/Getty Images for ESPN\n",
      "  * ## How to watch ESPN+ on Disney+: Frequently asked questions\n",
      "\n",
      "ESPN+ is available on Disney+. Check out how to watch NHL, MLB, Pat McAfee, 30\n",
      "for 30s and other exciting events now.\n",
      "\n",
      "## Get a custom ESPN experience\n",
      "\n",
      "  *   * ## Enjoy the benefits of a personalized account\n",
      "\n",
      "Select your favorite leagues, teams and players and get the latest scores,\n",
      "news and updates that matter most to you.\n",
      "\n",
      "## ESPN+\n",
      "\n",
      "  * UFC 318: Holloway vs. Poirier 3 (PPV)\n",
      "\n",
      "  * NFL FLAG\n",
      "\n",
      "  * The Ultimate Fighter\n",
      "\n",
      "## Quick Links\n",
      "\n",
      "  * NBA Free Agency\n",
      "\n",
      "  * NBA Summer League\n",
      "\n",
      "  * WNBA Season Schedule\n",
      "\n",
      "  * The Open\n",
      "\n",
      "  * Where To Watch\n",
      "\n",
      "  * Today's Top Odds\n",
      "\n",
      "  * ESPN Radio: Listen Live\n",
      "\n",
      "## Fantasy\n",
      "\n",
      "  * Football\n",
      "\n",
      "  * Baseball\n",
      "\n",
      "  * Hockey\n",
      "\n",
      "  * Men's Basketball\n",
      "\n",
      "  * Women's Basketball\n",
      "\n",
      "## ESPN Sites\n",
      "\n",
      "  * ESPN Deportes\n",
      "\n",
      "  * Andscape\n",
      "\n",
      "  * espnW\n",
      "\n",
      "  * ESPNFC\n",
      "\n",
      "  * X Games\n",
      "\n",
      "  * SEC Network\n",
      "\n",
      "## ESPN Apps\n",
      "\n",
      "  * ESPN\n",
      "\n",
      "  * ESPN Fantasy\n",
      "\n",
      "  * Tournament Challenge\n",
      "\n",
      "## Follow ESPN\n",
      "\n",
      "  * Facebook\n",
      "\n",
      "  * X/Twitter\n",
      "\n",
      "  * Instagram\n",
      "\n",
      "  * Snapchat\n",
      "\n",
      "  * TikTok\n",
      "\n",
      "  * YouTube\n",
      "\n",
      "  * Terms of Use\n",
      "  * Privacy Policy\n",
      "  * Interest-Based Ads\n",
      "\n",
      "© ESPN Enterprises, Inc. All rights reserved.\n",
      "\n",
      "\n"
     ]
    },
    {
     "name": "stderr",
     "output_type": "stream",
     "text": [
      "\n"
     ]
    }
   ],
   "source": [
    "from langchain_community.document_loaders import AsyncHtmlLoader\n",
    "from langchain_community.document_transformers import Html2TextTransformer\n",
    "\n",
    "loader = AsyncHtmlLoader([\"https://www.espn.com/\"])\n",
    "documents = loader.load()\n",
    "html2text = Html2TextTransformer()\n",
    "documents2 = html2text.transform_documents(documents)\n",
    "print(documents2[0].page_content)"
   ]
  },
  {
   "cell_type": "code",
   "execution_count": null,
   "id": "f0846c87363907d9",
   "metadata": {},
   "outputs": [],
   "source": []
  },
  {
   "cell_type": "code",
   "execution_count": null,
   "id": "66f79edf",
   "metadata": {},
   "outputs": [],
   "source": []
  }
 ],
 "metadata": {
  "kernelspec": {
   "display_name": "venv",
   "language": "python",
   "name": "python3"
  },
  "language_info": {
   "codemirror_mode": {
    "name": "ipython",
    "version": 3
   },
   "file_extension": ".py",
   "mimetype": "text/x-python",
   "name": "python",
   "nbconvert_exporter": "python",
   "pygments_lexer": "ipython3",
   "version": "3.13.5"
  }
 },
 "nbformat": 4,
 "nbformat_minor": 5
}
